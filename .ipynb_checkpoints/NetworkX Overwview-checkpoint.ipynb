{
 "cells": [
  {
   "cell_type": "markdown",
   "source": [
    "# NetworkX\n",
    "# ========\n",
    "Sample Data:\n"
   ],
   "metadata": {
    "collapsed": false
   },
   "id": "6af3f19e37999e82"
  },
  {
   "cell_type": "code",
   "outputs": [],
   "source": [
    "import networkx as nx\n",
    "import matplotlib.pyplot as plt\n",
    "import numpy as np\n",
    "import pandas as pd\n",
    "import itertools\n",
    "\n",
    "from IPython.display import display"
   ],
   "metadata": {
    "collapsed": false,
    "ExecuteTime": {
     "end_time": "2024-01-12T18:03:58.783901Z",
     "start_time": "2024-01-12T18:03:58.778624Z"
    }
   },
   "id": "26d88ddf8c8be31e",
   "execution_count": 9
  },
  {
   "cell_type": "markdown",
   "source": [
    "## 0. Data\n",
    "Edge List:\n",
    "* node1 & node2: names of the nodes connected.\n",
    "* trail: edge attribute indicating the abbreviated name of the trail for each edge. For example: `rs = red square`\n",
    "* distance: edge attribute indicating trail length in miles.\n",
    "* color: trail color used for plotting.\n",
    "* estimate: edge attribute indicating whether the edge distance is estimated from eyeballing the trailmap `(1=yes, 0=no)` as some distances are not provided. This is solely for reference; it is not used for analysis.\n",
    "__[Source]('https://gist.githubusercontent.com/brooksandrew/e570c38bcc72a8d102422f2af836513b/raw/89c76b2563dbc0e88384719a35cba0dfc04cd522/edgelist_sleeping_giant.csv')__\n",
    "\n",
    "__Node List:__\n",
    "* id: name of the node corresponding to node1 and node2 in the edge list.\n",
    "* X: horizontal position/coordinate of the node relative to the topleft.\n",
    "* Y vertical position/coordinate of the node relative to the topleft.\n"
   ],
   "metadata": {
    "collapsed": false
   },
   "id": "6ec60b47b6a2bf87"
  },
  {
   "cell_type": "code",
   "outputs": [
    {
     "data": {
      "text/plain": "          node1 node2 trail  distance color  estimate\n0  rs_end_north  v_rs    rs      0.30   red         0\n1          v_rs  b_rs    rs      0.21   red         0\n2          b_rs  g_rs    rs      0.11   red         0\n3          g_rs  w_rs    rs      0.18   red         0\n4          w_rs  o_rs    rs      0.21   red         0",
      "text/html": "<div>\n<style scoped>\n    .dataframe tbody tr th:only-of-type {\n        vertical-align: middle;\n    }\n\n    .dataframe tbody tr th {\n        vertical-align: top;\n    }\n\n    .dataframe thead th {\n        text-align: right;\n    }\n</style>\n<table border=\"1\" class=\"dataframe\">\n  <thead>\n    <tr style=\"text-align: right;\">\n      <th></th>\n      <th>node1</th>\n      <th>node2</th>\n      <th>trail</th>\n      <th>distance</th>\n      <th>color</th>\n      <th>estimate</th>\n    </tr>\n  </thead>\n  <tbody>\n    <tr>\n      <th>0</th>\n      <td>rs_end_north</td>\n      <td>v_rs</td>\n      <td>rs</td>\n      <td>0.30</td>\n      <td>red</td>\n      <td>0</td>\n    </tr>\n    <tr>\n      <th>1</th>\n      <td>v_rs</td>\n      <td>b_rs</td>\n      <td>rs</td>\n      <td>0.21</td>\n      <td>red</td>\n      <td>0</td>\n    </tr>\n    <tr>\n      <th>2</th>\n      <td>b_rs</td>\n      <td>g_rs</td>\n      <td>rs</td>\n      <td>0.11</td>\n      <td>red</td>\n      <td>0</td>\n    </tr>\n    <tr>\n      <th>3</th>\n      <td>g_rs</td>\n      <td>w_rs</td>\n      <td>rs</td>\n      <td>0.18</td>\n      <td>red</td>\n      <td>0</td>\n    </tr>\n    <tr>\n      <th>4</th>\n      <td>w_rs</td>\n      <td>o_rs</td>\n      <td>rs</td>\n      <td>0.21</td>\n      <td>red</td>\n      <td>0</td>\n    </tr>\n  </tbody>\n</table>\n</div>"
     },
     "metadata": {},
     "output_type": "display_data"
    },
    {
     "name": "stdout",
     "output_type": "stream",
     "text": [
      "           id     X     Y\n",
      "0        b_bv  1486   732\n",
      "1        b_bw   716  1357\n",
      "2  b_end_east  3164  1111\n",
      "3  b_end_west   141  1938\n",
      "4         b_g  1725   771\n"
     ]
    }
   ],
   "source": [
    "# Grab edge list data hosted on Gist\n",
    "edgelist = pd.read_csv('https://gist.githubusercontent.com/brooksandrew/e570c38bcc72a8d102422f2af836513b/raw/89c76b2563dbc0e88384719a35cba0dfc04cd522/edgelist_sleeping_giant.csv')\n",
    "\n",
    "# Preview edgelist\n",
    "# display(edgelist.head())\n",
    "display(edgelist.head()) # preview\n",
    "\n",
    "# Grab node list data hosted on Gist\n",
    "nodelist = pd.read_csv('https://gist.githubusercontent.com/brooksandrew/f989e10af17fb4c85b11409fea47895b/raw/a3a8da0fa5b094f1ca9d82e1642b384889ae16e8/nodelist_sleeping_giant.csv')\n",
    "\n",
    "display(nodelist.head()) # preview \n"
   ],
   "metadata": {
    "collapsed": false,
    "ExecuteTime": {
     "end_time": "2024-01-12T18:04:09.752659Z",
     "start_time": "2024-01-12T18:04:09.459406Z"
    }
   },
   "id": "ef860b24eee86f07",
   "execution_count": 10
  },
  {
   "cell_type": "markdown",
   "source": [
    "## 1. Graphs\n"
   ],
   "metadata": {
    "collapsed": false
   },
   "id": "3d54d8e904011e1c"
  },
  {
   "cell_type": "markdown",
   "source": [
    "### 1.1. Creating a graph"
   ],
   "metadata": {
    "collapsed": false
   },
   "id": "38b805e708601db"
  },
  {
   "cell_type": "code",
   "outputs": [],
   "source": [
    "G = nx.Graph() # empty graph\n"
   ],
   "metadata": {
    "collapsed": false,
    "ExecuteTime": {
     "end_time": "2024-01-12T17:58:45.378362Z",
     "start_time": "2024-01-12T17:58:45.371425Z"
    }
   },
   "id": "bd0210d91f8dcecb",
   "execution_count": 3
  }
 ],
 "metadata": {
  "kernelspec": {
   "display_name": "Python 3",
   "language": "python",
   "name": "python3"
  },
  "language_info": {
   "codemirror_mode": {
    "name": "ipython",
    "version": 2
   },
   "file_extension": ".py",
   "mimetype": "text/x-python",
   "name": "python",
   "nbconvert_exporter": "python",
   "pygments_lexer": "ipython2",
   "version": "2.7.6"
  }
 },
 "nbformat": 4,
 "nbformat_minor": 5
}
