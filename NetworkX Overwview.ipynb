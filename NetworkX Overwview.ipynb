{
 "cells": [
  {
   "cell_type": "markdown",
   "id": "6af3f19e37999e82",
   "metadata": {
    "collapsed": false
   },
   "source": [
    "# NetworkX Tutorial"
   ]
  },
  {
   "cell_type": "code",
   "execution_count": 60,
   "id": "26d88ddf8c8be31e",
   "metadata": {
    "collapsed": false,
    "ExecuteTime": {
     "end_time": "2024-02-23T16:07:43.678218Z",
     "start_time": "2024-02-23T16:07:43.661232Z"
    }
   },
   "outputs": [],
   "source": [
    "import networkx as nx\n",
    "import matplotlib.pyplot as plt\n",
    "import numpy as np\n",
    "import pandas as pd\n",
    "import itertools\n",
    "\n",
    "from IPython.display import display"
   ]
  },
  {
   "cell_type": "markdown",
   "id": "6ec60b47b6a2bf87",
   "metadata": {
    "collapsed": false
   },
   "source": [
    "## 0. Data\n",
    "__Edge List:__\n",
    "* node1 & node2: names of the nodes connected.\n",
    "* trail: edge attribute indicating the abbreviated name of the trail for each edge. For example: `rs = red square`\n",
    "* distance: edge attribute indicating trail length in miles.\n",
    "* color: trail color used for plotting.\n",
    "* estimate: edge attribute indicating whether the edge distance is estimated from eyeballing the trailmap `(1=yes, 0=no)` as some distances are not provided. This is solely for reference; it is not used for analysis.\n",
    "\n",
    "__[Source]('https://gist.githubusercontent.com/brooksandrew/e570c38bcc72a8d102422f2af836513b/raw/89c76b2563dbc0e88384719a35cba0dfc04cd522/edgelist_sleeping_giant.csv')__\n",
    "\n",
    "__Node List:__\n",
    "* id: name of the node corresponding to node1 and node2 in the edge list.\n",
    "* X: horizontal position/coordinate of the node relative to the topleft.\n",
    "* Y vertical position/coordinate of the node relative to the topleft.\n",
    "\n",
    "[Source]('https://gist.githubusercontent.com/brooksandrew/f989e10af17fb4c85b11409fea47895b/raw/a3a8da0fa5b094f1ca9d82e1642b384889ae16e8/nodelist_sleeping_giant.csv')"
   ]
  },
  {
   "cell_type": "code",
   "execution_count": 61,
   "id": "ef860b24eee86f07",
   "metadata": {
    "collapsed": false,
    "ExecuteTime": {
     "end_time": "2024-02-23T16:07:43.930061Z",
     "start_time": "2024-02-23T16:07:43.667625Z"
    }
   },
   "outputs": [
    {
     "data": {
      "text/plain": "          node1 node2 trail  distance color  estimate\n0  rs_end_north  v_rs    rs      0.30   red         0\n1          v_rs  b_rs    rs      0.21   red         0\n2          b_rs  g_rs    rs      0.11   red         0\n3          g_rs  w_rs    rs      0.18   red         0\n4          w_rs  o_rs    rs      0.21   red         0",
      "text/html": "<div>\n<style scoped>\n    .dataframe tbody tr th:only-of-type {\n        vertical-align: middle;\n    }\n\n    .dataframe tbody tr th {\n        vertical-align: top;\n    }\n\n    .dataframe thead th {\n        text-align: right;\n    }\n</style>\n<table border=\"1\" class=\"dataframe\">\n  <thead>\n    <tr style=\"text-align: right;\">\n      <th></th>\n      <th>node1</th>\n      <th>node2</th>\n      <th>trail</th>\n      <th>distance</th>\n      <th>color</th>\n      <th>estimate</th>\n    </tr>\n  </thead>\n  <tbody>\n    <tr>\n      <th>0</th>\n      <td>rs_end_north</td>\n      <td>v_rs</td>\n      <td>rs</td>\n      <td>0.30</td>\n      <td>red</td>\n      <td>0</td>\n    </tr>\n    <tr>\n      <th>1</th>\n      <td>v_rs</td>\n      <td>b_rs</td>\n      <td>rs</td>\n      <td>0.21</td>\n      <td>red</td>\n      <td>0</td>\n    </tr>\n    <tr>\n      <th>2</th>\n      <td>b_rs</td>\n      <td>g_rs</td>\n      <td>rs</td>\n      <td>0.11</td>\n      <td>red</td>\n      <td>0</td>\n    </tr>\n    <tr>\n      <th>3</th>\n      <td>g_rs</td>\n      <td>w_rs</td>\n      <td>rs</td>\n      <td>0.18</td>\n      <td>red</td>\n      <td>0</td>\n    </tr>\n    <tr>\n      <th>4</th>\n      <td>w_rs</td>\n      <td>o_rs</td>\n      <td>rs</td>\n      <td>0.21</td>\n      <td>red</td>\n      <td>0</td>\n    </tr>\n  </tbody>\n</table>\n</div>"
     },
     "metadata": {},
     "output_type": "display_data"
    },
    {
     "data": {
      "text/plain": "           id     X     Y\n0        b_bv  1486   732\n1        b_bw   716  1357\n2  b_end_east  3164  1111\n3  b_end_west   141  1938\n4         b_g  1725   771",
      "text/html": "<div>\n<style scoped>\n    .dataframe tbody tr th:only-of-type {\n        vertical-align: middle;\n    }\n\n    .dataframe tbody tr th {\n        vertical-align: top;\n    }\n\n    .dataframe thead th {\n        text-align: right;\n    }\n</style>\n<table border=\"1\" class=\"dataframe\">\n  <thead>\n    <tr style=\"text-align: right;\">\n      <th></th>\n      <th>id</th>\n      <th>X</th>\n      <th>Y</th>\n    </tr>\n  </thead>\n  <tbody>\n    <tr>\n      <th>0</th>\n      <td>b_bv</td>\n      <td>1486</td>\n      <td>732</td>\n    </tr>\n    <tr>\n      <th>1</th>\n      <td>b_bw</td>\n      <td>716</td>\n      <td>1357</td>\n    </tr>\n    <tr>\n      <th>2</th>\n      <td>b_end_east</td>\n      <td>3164</td>\n      <td>1111</td>\n    </tr>\n    <tr>\n      <th>3</th>\n      <td>b_end_west</td>\n      <td>141</td>\n      <td>1938</td>\n    </tr>\n    <tr>\n      <th>4</th>\n      <td>b_g</td>\n      <td>1725</td>\n      <td>771</td>\n    </tr>\n  </tbody>\n</table>\n</div>"
     },
     "metadata": {},
     "output_type": "display_data"
    }
   ],
   "source": [
    "# Grab edge list data hosted on Gist\n",
    "edgelist = pd.read_csv('https://gist.githubusercontent.com/brooksandrew/e570c38bcc72a8d102422f2af836513b/raw/89c76b2563dbc0e88384719a35cba0dfc04cd522/edgelist_sleeping_giant.csv')\n",
    "\n",
    "# Preview edgelist\n",
    "# display(edgelist.head())\n",
    "display(edgelist.head()) # preview\n",
    "\n",
    "# Grab node list data hosted on Gist\n",
    "nodelist = pd.read_csv('https://gist.githubusercontent.com/brooksandrew/f989e10af17fb4c85b11409fea47895b/raw/a3a8da0fa5b094f1ca9d82e1642b384889ae16e8/nodelist_sleeping_giant.csv')\n",
    "\n",
    "display(nodelist.head()) # preview \n"
   ]
  },
  {
   "cell_type": "markdown",
   "id": "3d54d8e904011e1c",
   "metadata": {
    "collapsed": false
   },
   "source": [
    "## 1. Graphs\n",
    "By definition, a `Graph` is a collection of nodes (vertices) along with identified pairs of nodes (called edges, links, etc). In NetworkX, nodes can be any _hashable_ object e.g., a text string, an image, an XML object, another Graph, a customized node object, etc.\n"
   ]
  },
  {
   "cell_type": "markdown",
   "id": "38b805e708601db",
   "metadata": {
    "collapsed": false
   },
   "source": [
    "### 1.1. Creating a graph"
   ]
  },
  {
   "cell_type": "code",
   "execution_count": 62,
   "id": "bd0210d91f8dcecb",
   "metadata": {
    "collapsed": false,
    "ExecuteTime": {
     "end_time": "2024-02-23T16:07:43.930914Z",
     "start_time": "2024-02-23T16:07:43.928156Z"
    }
   },
   "outputs": [],
   "source": [
    "G = nx.Graph() # empty graph\n"
   ]
  },
  {
   "cell_type": "markdown",
   "id": "2e332e67aa50bf97",
   "metadata": {
    "collapsed": false
   },
   "source": [
    "### 1.2. Examining elements of a graph\n",
    "We can examine the nodes and edges. Four basic graph properties facilitate reporting: `G.nodes`, `G.edges`, `G.adj` and `G.degree`. These are set-like views of the nodes, edges, neighbors (adjacencies), and degrees of nodes in a graph. They offer a continually updated read-only view into the graph structure. They are also dict-like in that you can look up node and edge data attributes via the views and iterate with data attributes using methods `.items()`, `.data()`. If you want a specific container type instead of a view, you can specify one. Here we use lists, though sets, dicts, tuples and other containers may be better in other contexts."
   ]
  },
  {
   "cell_type": "markdown",
   "source": [
    "### 1.3. Removing elements from a graph\n",
    "One can remove nodes and edges from the graph in a similar fashion to adding. Use methods `Graph.remove_node()`, `Graph.remove_nodes_from()`, `Graph.remove_edge()` and `Graph.remove_edges_from()`, e.g.\n",
    "    \n",
    "```python\n",
    "G.remove_node(1)\n",
    "G.remove_nodes_from([2,3])\n",
    "\n",
    "G.remove_edge(1, 2)\n",
    "G.remove_edges_from([(1, 2), (1, 3)])\n",
    "```\n"
   ],
   "metadata": {
    "collapsed": false
   },
   "id": "3d1588e621bb8e8"
  },
  {
   "cell_type": "markdown",
   "id": "154434f8c678d0fe",
   "metadata": {
    "collapsed": false
   },
   "source": [
    "# 2. Nodes\n",
    "The graph G can be grown in several ways. NetworkX includes many graph generator functions and facilities to read and write graphs in many formats. To get started though we’ll look at simple manipulations.\n",
    "\n",
    "## 2.1. Adding nodes\n",
    "2.1.1 We can add one node at a time.\n",
    "\n",
    "`G.add_node(1)`\n",
    "\n",
    "2.1.2 We can add from any iterable container such as list of nodes.\n",
    "\n",
    "`G.add_nodes_from([2, 3])`\n",
    "\n",
    "2.1.3 We can add nodes along with node attributes if your container yields 2-tuples (node, node_attribute_dict).\n",
    "\n",
    "```python\n",
    "G.add_nodes_from([\n",
    "    (4, {\"color\": \"red\"}),\n",
    "    (5, {\"color\": \"green\"}),\n",
    "])\n",
    "```\n",
    "\n",
    "2.1.4 Nodes from one graph can be incorporated into another\n",
    "\n",
    "```python\n",
    "H = nx.path_graph(10)\n",
    "G.add_nodes_from(H)\n",
    "```\n",
    "\n",
    "G now contains the nodes of H as nodes of G\n",
    "\n",
    "2.1.5 In contrast, you could use the graph H as a node in G.\n",
    "\n",
    "`G.add_node(H)`\n",
    "\n",
    "2.1.6 Add nodes and attributes from dataframes\n",
    "\n",
    "```python \n",
    "for i, nodelist_row in nodelist.iterrows(): \n",
    "    G.add_node(nodelist_row['id'], **(nodelist_row[1:].to_dict()))\n",
    "```\n"
   ]
  },
  {
   "cell_type": "markdown",
   "source": [
    "## 2.2. Examining nodes\n",
    "2.2.1 We can examine single nodes or all nodes.\n",
    "\n",
    "```python\n",
    "G.nodes[1]\n",
    "G.nodes[1]['room']\n",
    "G.nodes(data=True)\n",
    "list(G.nodes(data=True))[0:1] \n",
    "```\n",
    "\n",
    "2.2.2 We can select nodes base don attribute value.\n",
    "\n",
    "```python\n",
    "selected = [n for n, d in G.nodes(data=True) if 'color' in d and d['color'] == 'red']\n",
    "```"
   ],
   "metadata": {
    "collapsed": false
   },
   "id": "6f9984519f5e76bd"
  },
  {
   "cell_type": "code",
   "execution_count": 63,
   "id": "7172eae9bc136d72",
   "metadata": {
    "collapsed": false,
    "ExecuteTime": {
     "end_time": "2024-02-23T16:07:43.938512Z",
     "start_time": "2024-02-23T16:07:43.936419Z"
    }
   },
   "outputs": [
    {
     "name": "stdout",
     "output_type": "stream",
     "text": [
      "[1]\n",
      "[1]\n",
      "[1, 2, 3]\n",
      "[(1, {}), (2, {}), (3, {}), (4, {'color': 'red'}), (5, {'color': 'green'})]\n",
      "red\n",
      "[(1, {}), (2, {}), (3, {}), (4, {'color': 'red'}), (5, {'color': 'green'}), (0, {}), (6, {}), (7, {}), (8, {}), (9, {})]\n",
      "[(1, {}), (2, {}), (3, {}), (4, {'color': 'red'}), (5, {'color': 'green'}), (0, {}), (6, {}), (7, {}), (8, {}), (9, {}), (<networkx.classes.graph.Graph object at 0x15a96db10>, {})]\n",
      "List of red nodes: [4]\n",
      "{'X': 977, 'Y': 1666}\n",
      "[('b_bv', {'X': 1486, 'Y': 732})]\n"
     ]
    }
   ],
   "source": [
    "#@title Nodes\n",
    "# Add one node at a time\n",
    "G.add_node(1)\n",
    "print(G.nodes())\n",
    "print(list(G.nodes()))\n",
    "      \n",
    "# Add a list of nodes\n",
    "G.add_nodes_from([2, 3])\n",
    "print(G.nodes())\n",
    "\n",
    "# Add nodes along with node attributes\n",
    "G.add_nodes_from([\n",
    "    (4, {\"color\": \"red\"}),\n",
    "    (5, {\"color\": \"green\"}),\n",
    "])\n",
    "print(G.nodes(data=True))\n",
    "print(G.nodes(data=True)[4][\"color\"])\n",
    "\n",
    "# Add nodes from another graph\n",
    "H = nx.path_graph(10)\n",
    "G.add_nodes_from(H)\n",
    "print(G.nodes(data=True))\n",
    "\n",
    "# Add the graph H as a node in G\n",
    "G.add_node(H)\n",
    "print(G.nodes(data=True))\n",
    "\n",
    "# Find \"red\" nodes\n",
    "print('List of red nodes:', [n for n, d in G.nodes(data=True) if \"color\" in d and d[\"color\"] == \"red\"])\n",
    "\n",
    "# Add nodes and attributes from dataframes\n",
    "G.clear()\n",
    "for i, nodelist_row in nodelist.iterrows(): \n",
    "    G.add_node(nodelist_row['id'], **(nodelist_row[1:].to_dict()))\n",
    "    \n",
    "print(G.nodes(data=True)[nodelist_row['id']])\n",
    "print(list(G.nodes(data=True))[0:1])"
   ]
  },
  {
   "cell_type": "code",
   "execution_count": 63,
   "id": "7e1bef6244164fe2",
   "metadata": {
    "collapsed": false,
    "ExecuteTime": {
     "end_time": "2024-02-23T16:07:43.941634Z",
     "start_time": "2024-02-23T16:07:43.939426Z"
    }
   },
   "outputs": [],
   "source": []
  },
  {
   "cell_type": "markdown",
   "source": [
    "## 3. Edges\n",
    "A graph’s edges are contained in `G.edges`. Edges are represented as links between nodes with optional key/value attributes. The following are the basic operations for edges.\n",
    "\n",
    "## 3.1. Adding edges\n",
    "3.1.1 We can add one edge at a time\n",
    "\n",
    "```python\n",
    "G.add_edge(1, 2)\n",
    "e = (2, 3)\n",
    "G.add_edge(*e) # unpack edge tuple*\n",
    "```\n",
    "\n",
    "3.1.2 We can add a list of edges\n",
    "\n",
    "```python\n",
    "G.add_edges_from([(1, 2), (1, 3)])\n",
    "```\n",
    "\n",
    "3.1.3 We can add edges along with edge attributes\n",
    "\n",
    "```python\n",
    "G.add_edges_from([\n",
    "    (2, 3, {\"color\": \"blue\"}),\n",
    "    (3, 4, {\"weight\": 8}),\n",
    "])\n",
    "```\n",
    "\n",
    "3.1.4 We can add edges from another graph\n",
    "\n",
    "```python\n",
    "G.add_edges_from(H.edges)\n",
    "```\n",
    "\n",
    "3.1.5 We can add edges from an edge list\n",
    "\n",
    "```python\n",
    "edgelist = pd.read_csv('https://gist.githubusercontent.com/brooksandrew/e570c38bcc72a8d102422f2af836513b/raw/89c76b2563dbc0e88384719a35cba0dfc04cd522/edgelist_sleeping_giant.csv') \n",
    "G.add_edges_from(zip(edgelist.node1, edgelist.node2))\n",
    "```\n",
    "\n",
    "3.1.6 We can add edges from a dataframe\n",
    "\n",
    "```python\n",
    "for i, edgelist_row in edgelist.iterrows(): \n",
    "    G.add_edge(edgelist_row['node1'], edgelist_row['node2'], **(edgelist_row[2:].to_dict()))\n",
    "```\n",
    "\n",
    "## 3.2. Examining edges\n",
    "3.2.1 We can examine single edges or all edges.\n",
    "\n",
    "```python\n",
    "G.edges[1, 2]\n",
    "G.edges[1, 2]['color']\n",
    "G.edges(data=True)\n",
    "list(G.edges(data=True))[0:1] \n",
    "```\n",
    "\n",
    "3.2.2 We can select edges base don attribute value.\n",
    "\n",
    "```python\n",
    "selected = [(u, v) for u, v, d in G.edges(data=True) if d['color'] == 'red']\n",
    "```\n",
    "\n",
    "## 3.3. Removing edges\n",
    "3.3.1 We can remove one edge at a time.\n",
    "\n",
    "```python\n",
    "G.remove_edge(1, 2)\n",
    "```\n",
    "\n",
    "3.3.2 We can remove a list of edges.\n",
    "\n",
    "```python\n",
    "G.remove_edges_from([(1, 2), (1, 3)])\n",
    "```\n",
    "\n",
    "3.3.3 We can remove all edges.\n",
    "\n",
    "```python\n",
    "G.clear()\n",
    "```\n"
   ],
   "metadata": {
    "collapsed": false
   },
   "id": "28da71a7cf59c728"
  },
  {
   "cell_type": "code",
   "outputs": [
    {
     "name": "stdout",
     "output_type": "stream",
     "text": [
      "[(1, 2)]\n",
      "[(1, 2), (1, 3)]\n",
      "[(1, 2, {}), (1, 3, {}), (2, 3, {'color': 'blue'}), (3, 4, {'weight': 8})]\n",
      "[(1, 2, {}), (1, 3, {}), (1, 0, {}), (2, 3, {'color': 'blue'}), (3, 4, {'weight': 8}), (4, 5, {}), (5, 6, {}), (6, 7, {}), (7, 8, {}), (8, 9, {})]\n",
      "[(1, 2, {}), (1, 3, {}), (1, 0, {}), (2, 3, {'color': 'blue'}), (3, 4, {'weight': 8}), (4, 5, {}), (5, 6, {}), (6, 7, {}), (7, 8, {}), (8, 9, {}), ('rs_end_north', 'v_rs', {}), ('v_rs', 'b_rs', {}), ('v_rs', 'v_bv', {}), ('v_rs', 'v_end_east', {}), ('b_rs', 'g_rs', {}), ('b_rs', 'b_bv', {}), ('b_rs', 'b_g', {}), ('g_rs', 'w_rs', {}), ('g_rs', 'g_rc', {}), ('g_rs', 'b_g', {}), ('w_rs', 'o_rs', {}), ('w_rs', 'o_w_2', {}), ('w_rs', 'b_w', {}), ('o_rs', 'y_rs', {}), ('o_rs', 'o_w_2', {}), ('o_rs', 'o_gy2', {}), ('y_rs', 'rs_end_south', {}), ('y_rs', 'y_rc', {}), ('y_rs', 'y_gy2', {}), ('rc_end_north', 'v_rc', {}), ('v_rc', 'b_rc', {}), ('v_rc', 'v_rt', {}), ('v_rc', 'v_bv', {}), ('b_rc', 'g_rc', {}), ('b_rc', 'b_tt_3', {}), ('b_rc', 'b_bv', {}), ('g_rc', 'o_rc', {}), ('g_rc', 'g_gy1', {}), ('o_rc', 'w_rc', {}), ('o_rc', 'o_gy1', {}), ('o_rc', 'o_w_2', {}), ('w_rc', 'y_rc', {}), ('w_rc', 'w_gy1', {}), ('w_rc', 'o_w_2', {}), ('y_rc', 'rc_end_south', {}), ('y_rc', 'y_gy1', {}), ('rt_end_north', 'v_rt', {}), ('v_rt', 'tt_rt', {}), ('v_rt', 'v_rh', {}), ('tt_rt', 'b_rt', {}), ('tt_rt', 'b_tt_1', {}), ('tt_rt', 'b_tt_2', {}), ('b_rt', 'g_rt', {}), ('b_rt', 'b_bw', {}), ('b_rt', 'b_tt_2', {}), ('g_rt', 'o_rt', {}), ('g_rt', 'g_w', {}), ('g_rt', 'g_gy1', {}), ('o_rt', 'w_rt', {}), ('o_rt', 'o_w_1', {}), ('w_rt', 'y_rt', {}), ('w_rt', 'o_w_1', {}), ('w_rt', 'w_gy1', {}), ('y_rt', 'rt_end_south', {}), ('y_rt', 'y_rh', {}), ('y_rt', 'y_gy1', {}), ('y_rt', 'o_tt', {}), ('rh_end_north', 'v_rh', {}), ('v_rh', 'b_rh', {}), ('v_rh', 'v_rd', {}), ('b_rh', 'rh_end_tt_1', {}), ('b_rh', 'b_rd', {}), ('b_rh', 'b_tt_1', {}), ('rh_end_tt_1', 'w_tt', {}), ('rh_end_tt_1', 'b_tt_1', {}), ('rh_end_tt_2', 'o_rh', {}), ('rh_end_tt_2', 'o_tt', {}), ('rh_end_tt_2', 'w_tt', {}), ('o_rh', 'rh_end_tt_3', {}), ('o_rh', 'o_y_tt_end_west', {}), ('o_rh', 'o_tt', {}), ('rh_end_tt_3', 'rh_end_tt_4', {}), ('rh_end_tt_3', 'o_tt', {}), ('rh_end_tt_4', 'y_rh', {}), ('rh_end_tt_4', 'nature_end_west', {}), ('y_rh', 'rh_end_south', {}), ('y_rh', 'o_y_tt_end_west', {}), ('y_rh', 'nature_end_west', {}), ('rd_end_north', 'v_rd', {}), ('v_rd', 'b_rd', {}), ('v_rd', 'b_v', {}), ('b_rd', 'rd_end_south', {}), ('b_rd', 'b_rd_dupe', {}), ('rd_end_south', 'b_v', {}), ('rd_end_south', 'rd_end_south_dupe', {}), ('v_end_west', 'b_v', {}), ('b_v', 'bstub_w', {}), ('b_v', 'b_end_west', {}), ('v_bv', 'b_bv', {}), ('bstub_w', 'w_tt', {}), ('rd_end_south_dupe', 'b_rd_dupe', {}), ('b_tt_1', 'b_bw', {}), ('b_bw', 'w_bw', {}), ('b_tt_2', 'b_tt_3', {}), ('b_tt_2', 'b_tt_2_dupe', {}), ('b_tt_3', 'b_tt_3_dupe', {}), ('b_g', 'b_w', {}), ('b_g', 'g_gy2', {}), ('b_w', 'b_gy2', {}), ('b_w', 'w_gy2', {}), ('b_gy2', 'b_o', {}), ('b_gy2', 'w_gy2', {}), ('b_gy2', 'o_gy2', {}), ('b_o', 'b_y', {}), ('b_o', 'o_gy2', {}), ('b_o', 'park_east', {}), ('b_y', 'b_end_east', {}), ('b_y', 'y_gy2', {}), ('b_y', 'park_east', {}), ('w_tt', 'w_bw', {}), ('w_bw', 'g_w', {}), ('g_w', 'o_w_1', {}), ('o_w_1', 'o_tt', {}), ('o_w_1', 'o_gy1', {}), ('w_gy1', 'o_gy1', {}), ('w_gy1', 'y_gy1', {}), ('w_gy2', 'park_east', {}), ('w_gy2', 'g_gy2', {}), ('park_east', 'g_gy2', {}), ('g_gy1', 'o_gy1', {}), ('o_y_tt_end_west', 'nature_end_west', {}), ('o_gy2', 'y_gy2', {}), ('b_tt_2_dupe', 'b_tt_3_dupe', {})]\n",
      "[('rs_end_north', 'v_rs', {'trail': 'rs', 'distance': 0.3, 'color': 'red', 'estimate': 0}), ('v_rs', 'b_rs', {'trail': 'rs', 'distance': 0.21, 'color': 'red', 'estimate': 0}), ('v_rs', 'v_bv', {'trail': 'v', 'distance': 0.52, 'color': 'violet', 'estimate': 0}), ('v_rs', 'v_end_east', {'trail': 'v', 'distance': 0.54, 'color': 'violet', 'estimate': 0}), ('b_rs', 'g_rs', {'trail': 'rs', 'distance': 0.11, 'color': 'red', 'estimate': 0}), ('b_rs', 'b_bv', {'trail': 'b', 'distance': 0.43, 'color': 'blue', 'estimate': 0}), ('b_rs', 'b_g', {'trail': 'b', 'distance': 0.07, 'color': 'blue', 'estimate': 0}), ('g_rs', 'w_rs', {'trail': 'rs', 'distance': 0.18, 'color': 'red', 'estimate': 0}), ('g_rs', 'g_rc', {'trail': 'g', 'distance': 0.45, 'color': 'green', 'estimate': 0}), ('g_rs', 'b_g', {'trail': 'g', 'distance': 0.05, 'color': 'green', 'estimate': 1}), ('w_rs', 'o_rs', {'trail': 'rs', 'distance': 0.21, 'color': 'red', 'estimate': 0}), ('w_rs', 'o_w_2', {'trail': 'w', 'distance': 0.26, 'color': 'gray', 'estimate': 0}), ('w_rs', 'b_w', {'trail': 'w', 'distance': 0.06, 'color': 'gray', 'estimate': 1}), ('o_rs', 'y_rs', {'trail': 'rs', 'distance': 0.12, 'color': 'red', 'estimate': 0}), ('o_rs', 'o_w_2', {'trail': 'o', 'distance': 0.15, 'color': 'orange', 'estimate': 0}), ('o_rs', 'o_gy2', {'trail': 'o', 'distance': 0.33, 'color': 'orange', 'estimate': 0}), ('y_rs', 'rs_end_south', {'trail': 'rs', 'distance': 0.39, 'color': 'red', 'estimate': 0}), ('y_rs', 'y_rc', {'trail': 'y', 'distance': 0.53, 'color': 'yellow', 'estimate': 0}), ('y_rs', 'y_gy2', {'trail': 'y', 'distance': 0.16, 'color': 'yellow', 'estimate': 0}), ('rc_end_north', 'v_rc', {'trail': 'rc', 'distance': 0.7, 'color': 'red', 'estimate': 0}), ('v_rc', 'b_rc', {'trail': 'rc', 'distance': 0.04, 'color': 'red', 'estimate': 0}), ('v_rc', 'v_rt', {'trail': 'v', 'distance': 0.5, 'color': 'violet', 'estimate': 0}), ('v_rc', 'v_bv', {'trail': 'v', 'distance': 0.27, 'color': 'violet', 'estimate': 0}), ('b_rc', 'g_rc', {'trail': 'rc', 'distance': 0.15, 'color': 'red', 'estimate': 0}), ('b_rc', 'b_tt_3', {'trail': 'b', 'distance': 0.4, 'color': 'blue', 'estimate': 0}), ('b_rc', 'b_bv', {'trail': 'b', 'distance': 0.41, 'color': 'blue', 'estimate': 0}), ('g_rc', 'o_rc', {'trail': 'rc', 'distance': 0.13, 'color': 'red', 'estimate': 0}), ('g_rc', 'g_gy1', {'trail': 'g', 'distance': 0.37, 'color': 'green', 'estimate': 0}), ('o_rc', 'w_rc', {'trail': 'rc', 'distance': 0.23, 'color': 'red', 'estimate': 1}), ('o_rc', 'o_gy1', {'trail': 'o', 'distance': 0.58, 'color': 'orange', 'estimate': 0}), ('o_rc', 'o_w_2', {'trail': 'o', 'distance': 0.11, 'color': 'orange', 'estimate': 0}), ('w_rc', 'y_rc', {'trail': 'rc', 'distance': 0.14, 'color': 'red', 'estimate': 0}), ('w_rc', 'w_gy1', {'trail': 'w', 'distance': 0.33, 'color': 'gray', 'estimate': 0}), ('w_rc', 'o_w_2', {'trail': 'w', 'distance': 0.23, 'color': 'gray', 'estimate': 0}), ('y_rc', 'rc_end_south', {'trail': 'rc', 'distance': 0.36, 'color': 'red', 'estimate': 0}), ('y_rc', 'y_gy1', {'trail': 'y', 'distance': 0.18, 'color': 'yellow', 'estimate': 0}), ('rt_end_north', 'v_rt', {'trail': 'rt', 'distance': 0.3, 'color': 'red', 'estimate': 0}), ('v_rt', 'tt_rt', {'trail': 'rt', 'distance': 0.16, 'color': 'red', 'estimate': 0}), ('v_rt', 'v_rh', {'trail': 'v', 'distance': 0.44, 'color': 'violet', 'estimate': 0}), ('tt_rt', 'b_rt', {'trail': 'rt', 'distance': 0.04, 'color': 'red', 'estimate': 1}), ('tt_rt', 'b_tt_1', {'trail': 'tt', 'distance': 0.36, 'color': 'black', 'estimate': 0}), ('tt_rt', 'b_tt_2', {'trail': 'tt', 'distance': 0.06, 'color': 'black', 'estimate': 1}), ('b_rt', 'g_rt', {'trail': 'rt', 'distance': 0.09, 'color': 'red', 'estimate': 0}), ('b_rt', 'b_bw', {'trail': 'b', 'distance': 0.14, 'color': 'blue', 'estimate': 0}), ('b_rt', 'b_tt_2', {'trail': 'b', 'distance': 0.03, 'color': 'blue', 'estimate': 1}), ('g_rt', 'o_rt', {'trail': 'rt', 'distance': 0.05, 'color': 'red', 'estimate': 1}), ('g_rt', 'g_w', {'trail': 'g', 'distance': 0.31, 'color': 'green', 'estimate': 0}), ('g_rt', 'g_gy1', {'trail': 'g', 'distance': 0.26, 'color': 'green', 'estimate': 0}), ('o_rt', 'w_rt', {'trail': 'rt', 'distance': 0.06, 'color': 'red', 'estimate': 0}), ('o_rt', 'o_w_1', {'trail': 'o', 'distance': 0.13, 'color': 'orange', 'estimate': 0}), ('w_rt', 'y_rt', {'trail': 'rt', 'distance': 0.19, 'color': 'red', 'estimate': 0}), ('w_rt', 'o_w_1', {'trail': 'w', 'distance': 0.09, 'color': 'gray', 'estimate': 0}), ('w_rt', 'w_gy1', {'trail': 'w', 'distance': 0.33, 'color': 'gray', 'estimate': 0}), ('y_rt', 'rt_end_south', {'trail': 'rt', 'distance': 0.18, 'color': 'red', 'estimate': 0}), ('y_rt', 'y_rh', {'trail': 'y', 'distance': 0.32, 'color': 'yellow', 'estimate': 0}), ('y_rt', 'y_gy1', {'trail': 'y', 'distance': 0.31, 'color': 'yellow', 'estimate': 0}), ('y_rt', 'o_tt', {'trail': 'nature', 'distance': 0.35, 'color': 'forestgreen', 'estimate': 0}), ('rh_end_north', 'v_rh', {'trail': 'rh', 'distance': 0.24, 'color': 'red', 'estimate': 0}), ('v_rh', 'b_rh', {'trail': 'rh', 'distance': 0.12, 'color': 'red', 'estimate': 0}), ('v_rh', 'v_rd', {'trail': 'v', 'distance': 0.38, 'color': 'violet', 'estimate': 0}), ('b_rh', 'rh_end_tt_1', {'trail': 'rh', 'distance': 0.06, 'color': 'red', 'estimate': 0}), ('b_rh', 'b_rd', {'trail': 'b', 'distance': 0.53, 'color': 'blue', 'estimate': 0}), ('b_rh', 'b_tt_1', {'trail': 'b', 'distance': 0.06, 'color': 'blue', 'estimate': 0}), ('rh_end_tt_1', 'w_tt', {'trail': 'tt', 'distance': 0.08, 'color': 'black', 'estimate': 0}), ('rh_end_tt_1', 'b_tt_1', {'trail': 'tt', 'distance': 0.03, 'color': 'black', 'estimate': 1}), ('rh_end_tt_2', 'o_rh', {'trail': 'rh', 'distance': 0.07, 'color': 'red', 'estimate': 1}), ('rh_end_tt_2', 'o_tt', {'trail': 'tt', 'distance': 0.13, 'color': 'black', 'estimate': 0}), ('rh_end_tt_2', 'w_tt', {'trail': 'tt', 'distance': 0.06, 'color': 'black', 'estimate': 1}), ('o_rh', 'rh_end_tt_3', {'trail': 'rh', 'distance': 0.04, 'color': 'red', 'estimate': 1}), ('o_rh', 'o_y_tt_end_west', {'trail': 'o', 'distance': 0.32, 'color': 'orange', 'estimate': 0}), ('o_rh', 'o_tt', {'trail': 'o', 'distance': 0.08, 'color': 'orange', 'estimate': 1}), ('rh_end_tt_3', 'rh_end_tt_4', {'trail': 'tt', 'distance': 0.15, 'color': 'black', 'estimate': 1}), ('rh_end_tt_3', 'o_tt', {'trail': 'tt', 'distance': 0.11, 'color': 'black', 'estimate': 1}), ('rh_end_tt_4', 'y_rh', {'trail': 'rh', 'distance': 0.09, 'color': 'red', 'estimate': 0}), ('rh_end_tt_4', 'nature_end_west', {'trail': 'tt', 'distance': 0.2, 'color': 'black', 'estimate': 0}), ('y_rh', 'rh_end_south', {'trail': 'rh', 'distance': 0.06, 'color': 'red', 'estimate': 0}), ('y_rh', 'o_y_tt_end_west', {'trail': 'y', 'distance': 0.26, 'color': 'yellow', 'estimate': 0}), ('y_rh', 'nature_end_west', {'trail': 'nature', 'distance': 0.11, 'color': 'forestgreen', 'estimate': 0}), ('rd_end_north', 'v_rd', {'trail': 'rd', 'distance': 0.14, 'color': 'red', 'estimate': 0}), ('v_rd', 'b_rd', {'trail': 'rd', 'distance': 0.06, 'color': 'red', 'estimate': 1}), ('v_rd', 'b_v', {'trail': 'v', 'distance': 0.3, 'color': 'violet', 'estimate': 0}), ('b_rd', 'rd_end_south', {'trail': 'rd', 'distance': 0.13, 'color': 'red', 'estimate': 0}), ('b_rd', 'b_rd_dupe', {'trail': 'hack', 'distance': 0.0, 'color': 'black', 'estimate': 0}), ('rd_end_south', 'b_v', {'trail': 'b', 'distance': 0.04, 'color': 'blue', 'estimate': 1}), ('rd_end_south', 'rd_end_south_dupe', {'trail': 'hack', 'distance': 0.0, 'color': 'black', 'estimate': 0}), ('v_end_west', 'b_v', {'trail': 'v', 'distance': 0.13, 'color': 'violet', 'estimate': 0}), ('b_v', 'bstub_w', {'trail': 'b', 'distance': 0.1, 'color': 'blue', 'estimate': 0}), ('b_v', 'b_end_west', {'trail': 'b', 'distance': 0.32, 'color': 'blue', 'estimate': 0}), ('v_bv', 'b_bv', {'trail': 'bv', 'distance': 0.08, 'color': 'purple', 'estimate': 0}), ('bstub_w', 'w_tt', {'trail': 'w', 'distance': 0.38, 'color': 'gray', 'estimate': 0}), ('rd_end_south_dupe', 'b_rd_dupe', {'trail': 'b', 'distance': 0.16, 'color': 'blue', 'estimate': 0}), ('b_tt_1', 'b_bw', {'trail': 'b', 'distance': 0.18, 'color': 'blue', 'estimate': 0}), ('b_bw', 'w_bw', {'trail': 'bw', 'distance': 0.19, 'color': 'lightblue', 'estimate': 0}), ('b_tt_2', 'b_tt_3', {'trail': 'b', 'distance': 0.15, 'color': 'blue', 'estimate': 0}), ('b_tt_2', 'b_tt_2_dupe', {'trail': 'hack', 'distance': 0.0, 'color': 'black', 'estimate': 0}), ('b_tt_3', 'b_tt_3_dupe', {'trail': 'hack', 'distance': 0.0, 'color': 'black', 'estimate': 0}), ('b_g', 'b_w', {'trail': 'b', 'distance': 0.16, 'color': 'blue', 'estimate': 0}), ('b_g', 'g_gy2', {'trail': 'g', 'distance': 0.45, 'color': 'green', 'estimate': 0}), ('b_w', 'b_gy2', {'trail': 'b', 'distance': 0.41, 'color': 'blue', 'estimate': 0}), ('b_w', 'w_gy2', {'trail': 'w', 'distance': 0.42, 'color': 'gray', 'estimate': 0}), ('b_gy2', 'b_o', {'trail': 'b', 'distance': 0.05, 'color': 'blue', 'estimate': 1}), ('b_gy2', 'w_gy2', {'trail': 'gy2', 'distance': 0.03, 'color': 'yellowgreen', 'estimate': 1}), ('b_gy2', 'o_gy2', {'trail': 'gy2', 'distance': 0.07, 'color': 'yellowgreen', 'estimate': 0}), ('b_o', 'b_y', {'trail': 'b', 'distance': 0.08, 'color': 'blue', 'estimate': 0}), ('b_o', 'o_gy2', {'trail': 'o', 'distance': 0.06, 'color': 'orange', 'estimate': 0}), ('b_o', 'park_east', {'trail': 'o', 'distance': 0.11, 'color': 'orange', 'estimate': 0}), ('b_y', 'b_end_east', {'trail': 'b', 'distance': 1.32, 'color': 'blue', 'estimate': 0}), ('b_y', 'y_gy2', {'trail': 'y', 'distance': 0.28, 'color': 'yellow', 'estimate': 0}), ('b_y', 'park_east', {'trail': 'y', 'distance': 0.14, 'color': 'yellow', 'estimate': 0}), ('w_tt', 'w_bw', {'trail': 'w', 'distance': 0.24, 'color': 'gray', 'estimate': 0}), ('w_bw', 'g_w', {'trail': 'w', 'distance': 0.09, 'color': 'gray', 'estimate': 0}), ('g_w', 'o_w_1', {'trail': 'w', 'distance': 0.18, 'color': 'gray', 'estimate': 0}), ('o_w_1', 'o_tt', {'trail': 'o', 'distance': 0.27, 'color': 'orange', 'estimate': 0}), ('o_w_1', 'o_gy1', {'trail': 'o', 'distance': 0.24, 'color': 'orange', 'estimate': 0}), ('w_gy1', 'o_gy1', {'trail': 'gy1', 'distance': 0.16, 'color': 'yellowgreen', 'estimate': 0}), ('w_gy1', 'y_gy1', {'trail': 'gy1', 'distance': 0.14, 'color': 'yellowgreen', 'estimate': 0}), ('w_gy2', 'park_east', {'trail': 'w', 'distance': 0.12, 'color': 'gray', 'estimate': 0}), ('w_gy2', 'g_gy2', {'trail': 'gy2', 'distance': 0.05, 'color': 'yellowgreen', 'estimate': 0}), ('park_east', 'g_gy2', {'trail': 'g', 'distance': 0.14, 'color': 'green', 'estimate': 0}), ('g_gy1', 'o_gy1', {'trail': 'gy1', 'distance': 0.15, 'color': 'yellowgreen', 'estimate': 0}), ('o_y_tt_end_west', 'nature_end_west', {'trail': 'tt', 'distance': 0.16, 'color': 'black', 'estimate': 0}), ('o_gy2', 'y_gy2', {'trail': 'gy2', 'distance': 0.12, 'color': 'yellowgreen', 'estimate': 0}), ('b_tt_2_dupe', 'b_tt_3_dupe', {'trail': 'tt', 'distance': 0.18, 'color': 'black', 'estimate': 0})]\n"
     ]
    }
   ],
   "source": [
    "#@title Edges\n",
    "G.clear()\n",
    "# Add one edge at a time\n",
    "G.add_edge(1, 2)\n",
    "print(G.edges())\n",
    "\n",
    "# Add a list of edges\n",
    "G.add_edges_from([(1, 2), (1, 3)])\n",
    "print(G.edges())\n",
    "\n",
    "# Add edges along with edge attributes\n",
    "G.add_edges_from([\n",
    "    (2, 3, {\"color\": \"blue\"}),\n",
    "    (3, 4, {\"weight\": 8}),\n",
    "])\n",
    "print(G.edges(data=True))\n",
    "\n",
    "# Add edges from another graph\n",
    "H = nx.path_graph(10)\n",
    "G.add_edges_from(H.edges)\n",
    "print(G.edges(data=True))\n",
    "\n",
    "# Add edges from an edge list\n",
    "edgelist = pd.read_csv('https://gist.githubusercontent.com/brooksandrew/e570c38bcc72a8d102422f2af836513b/raw/89c76b2563dbc0e88384719a35cba0dfc04cd522/edgelist_sleeping_giant.csv')\n",
    "G.add_edges_from(zip(edgelist.node1, edgelist.node2))\n",
    "print(G.edges(data=True))\n",
    "\n",
    "# Add edges from a dataframe\n",
    "G.clear()\n",
    "for i, edgelist_row in edgelist.iterrows(): \n",
    "    G.add_edge(edgelist_row['node1'], edgelist_row['node2'], **(edgelist_row[2:].to_dict()))\n",
    "    \n",
    "# print(G.edges(data=True)[(edgelist_row['node1'], edgelist_row['node2'])])\n",
    "print(G.edges(data=True))"
   ],
   "metadata": {
    "collapsed": false,
    "ExecuteTime": {
     "end_time": "2024-02-23T16:07:43.997154Z",
     "start_time": "2024-02-23T16:07:43.943433Z"
    }
   },
   "id": "b36aec4df000316d",
   "execution_count": 64
  },
  {
   "cell_type": "code",
   "outputs": [
    {
     "data": {
      "text/plain": "<Figure size 640x480 with 1 Axes>",
      "image/png": "[encoded data removed]"
     },
     "metadata": {},
     "output_type": "display_data"
    }
   ],
   "source": [
    "# 4. Draw multipartite graph\n",
    "\n",
    "# Node sets (adjust names and sizes as needed)\n",
    "authors = [\"Alice\", \"Bob\", \"Charlie\"]\n",
    "papers = [\"Paper 1\", \"Paper 2\", \"Paper 3\", \"Paper 4\"]\n",
    "keywords = [\"Keyword 1\", \"Keyword 2\", \"Keyword 3\", \"Keyword 4\"]\n",
    "\n",
    "# Edges (update with your connections)\n",
    "edges = [\n",
    "    (\"Alice\", \"Paper 1\", \"Authored\"),\n",
    "    (\"Bob\", \"Paper 2\", \"Authored\"),\n",
    "    (\"Charlie\", \"Paper 3\", \"Authored\"),\n",
    "    (\"Alice\", \"Paper 4\", \"Co-authored\"),\n",
    "    (\"Bob\", \"Paper 4\", \"Co-authored\"),\n",
    "    (\"Paper 1\", \"Keyword 1\", \"Contains\"),\n",
    "    (\"Paper 1\", \"Keyword 2\", \"Contains\"),\n",
    "    (\"Paper 2\", \"Keyword 2\", \"Contains\"),\n",
    "    # ... add more edges as needed\n",
    "]\n",
    "\n",
    "BG = nx.MultiGraph()\n",
    "\n",
    "# Add nodes with bipartite information\n",
    "BG.add_nodes_from(authors, bipartite=0, node_color=\"red\", node_border_color=\"tab:red\", node_size=1000, node_shape=\"s\")\n",
    "BG.add_nodes_from(papers, bipartite=1, node_color=\"mediumseagreen\", node_border_color=\"blue\", node_size=1000, node_shape=\"o\")\n",
    "BG.add_nodes_from(keywords, bipartite=2, node_color=\"yellow\", node_border_color=\"yellow\", node_size=1000, node_shape=\"^\")\n",
    "\n",
    "# Add edges with edge labels (optional)\n",
    "BG.add_edges_from(edges)\n",
    "\n",
    "# print(BG.nodes(data=True))\n",
    "\n",
    "pos = nx.multipartite_layout(BG, subset_key=\"bipartite\")\n",
    "\n",
    "# print(pos)\n",
    "# nx.draw(BG, pos, node_size=1000, alpha=0.7, with_labels=True, font_weight='bold', font_size=12, width=3, edge_color=\"blue\")\n",
    "\n",
    "colors, border_colors, shapes = zip(*[(d[\"node_color\"], d[\"node_border_color\"], d[\"node_shape\"]) for _, d in BG.nodes(data=True)])\n",
    "\n",
    "# node_shape=shapes,\n",
    "\n",
    "# node_colors = ['c' if d[\"bipartite\"] == 0 else 'y' if d[\"bipartite\"] == 2 else 'm' for _, d in BG.nodes(data=True)]\n",
    "nx.draw(BG, pos, \n",
    "        node_size=1000, \n",
    "        alpha=0.7, \n",
    "        node_color=colors,  \n",
    "        edgecolors = border_colors, \n",
    "        with_labels=True, \n",
    "        font_weight='bold', \n",
    "        font_size=12, \n",
    "        width=3, \n",
    "        arrows=True,\n",
    "        arrowstyle=\"->\",\n",
    "        arrowsize=20,\n",
    "        horizontalalignment='right', \n",
    "        verticalalignment='bottom',\n",
    "        # node_shape=shapes,\n",
    "    )\n",
    "plt.axis(\"off\")\n",
    "plt.show()"
   ],
   "metadata": {
    "collapsed": false,
    "ExecuteTime": {
     "end_time": "2024-02-24T19:01:47.008559Z",
     "start_time": "2024-02-24T19:01:46.956714Z"
    }
   },
   "id": "54b752380ab8cc6b",
   "execution_count": 70
  },
  {
   "cell_type": "code",
   "outputs": [],
   "source": [],
   "metadata": {
    "collapsed": false,
    "ExecuteTime": {
     "end_time": "2024-02-23T16:07:44.065048Z",
     "start_time": "2024-02-23T16:07:44.062955Z"
    }
   },
   "id": "9d2856ac0559260e",
   "execution_count": 65
  }
 ],
 "metadata": {
  "kernelspec": {
   "display_name": "graphs",
   "language": "python",
   "name": "graphs"
  },
  "language_info": {
   "codemirror_mode": {
    "name": "ipython",
    "version": 3
   },
   "file_extension": ".py",
   "mimetype": "text/x-python",
   "name": "python",
   "nbconvert_exporter": "python",
   "pygments_lexer": "ipython3",
   "version": "3.11.7"
  }
 },
 "nbformat": 4,
 "nbformat_minor": 5
}
